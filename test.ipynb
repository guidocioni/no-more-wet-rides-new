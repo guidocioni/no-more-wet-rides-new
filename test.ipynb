{
 "cells": [
  {
   "cell_type": "code",
   "execution_count": 1,
   "metadata": {
    "ExecuteTime": {
     "end_time": "2020-11-09T11:50:37.081787Z",
     "start_time": "2020-11-09T11:50:35.508284Z"
    }
   },
   "outputs": [],
   "source": [
    "from utils import *\n",
    "import matplotlib.pyplot as plt"
   ]
  },
  {
   "cell_type": "code",
   "execution_count": 3,
   "metadata": {
    "ExecuteTime": {
     "end_time": "2020-11-09T11:51:12.792872Z",
     "start_time": "2020-11-09T11:51:11.739708Z"
    }
   },
   "outputs": [],
   "source": [
    "source, dest, lons, lats, dtime = mapbox_parser('Holländische Reihe 15, Hamburg',\n",
    "             'Bundesstrasse 53, Hamburg', 'walking')"
   ]
  },
  {
   "cell_type": "code",
   "execution_count": 7,
   "metadata": {
    "ExecuteTime": {
     "end_time": "2020-11-09T11:55:06.809511Z",
     "start_time": "2020-11-09T11:55:06.806144Z"
    }
   },
   "outputs": [],
   "source": [
    "df = pd.DataFrame({'lons': lons, \n",
    "               'lats': lats, \n",
    "               'dtime': dtime.seconds.values,\n",
    "               'source':source,\n",
    "              'destination': dest})"
   ]
  },
  {
   "cell_type": "code",
   "execution_count": 68,
   "metadata": {
    "ExecuteTime": {
     "end_time": "2020-11-09T12:10:56.463721Z",
     "start_time": "2020-11-09T12:10:56.460065Z"
    }
   },
   "outputs": [],
   "source": [
    "def strfdelta(tdelta, fmt):\n",
    "    d = {\"days\": tdelta.days}\n",
    "    d[\"hours\"], rem = divmod(tdelta.seconds, 3600)\n",
    "    d[\"minutes\"], d[\"seconds\"] = divmod(rem, 60)\n",
    "    return fmt.format(**d)"
   ]
  },
  {
   "cell_type": "code",
   "execution_count": 75,
   "metadata": {
    "ExecuteTime": {
     "end_time": "2020-11-09T12:12:04.599567Z",
     "start_time": "2020-11-09T12:12:04.590752Z"
    }
   },
   "outputs": [
    {
     "data": {
      "text/plain": [
       "['0h 0m',\n",
       " '0h 0m',\n",
       " '0h 1m',\n",
       " '0h 1m',\n",
       " '0h 1m',\n",
       " '0h 2m',\n",
       " '0h 2m',\n",
       " '0h 2m',\n",
       " '0h 3m',\n",
       " '0h 3m',\n",
       " '0h 3m',\n",
       " '0h 4m',\n",
       " '0h 4m',\n",
       " '0h 5m',\n",
       " '0h 5m',\n",
       " '0h 5m',\n",
       " '0h 5m',\n",
       " '0h 6m',\n",
       " '0h 6m',\n",
       " '0h 6m',\n",
       " '0h 6m',\n",
       " '0h 6m',\n",
       " '0h 6m',\n",
       " '0h 6m',\n",
       " '0h 6m',\n",
       " '0h 7m',\n",
       " '0h 7m',\n",
       " '0h 7m',\n",
       " '0h 7m',\n",
       " '0h 7m',\n",
       " '0h 8m',\n",
       " '0h 8m',\n",
       " '0h 8m',\n",
       " '0h 8m',\n",
       " '0h 9m',\n",
       " '0h 9m',\n",
       " '0h 9m',\n",
       " '0h 9m',\n",
       " '0h 10m',\n",
       " '0h 10m',\n",
       " '0h 10m',\n",
       " '0h 10m',\n",
       " '0h 10m',\n",
       " '0h 10m',\n",
       " '0h 10m',\n",
       " '0h 10m',\n",
       " '0h 11m',\n",
       " '0h 11m',\n",
       " '0h 11m',\n",
       " '0h 12m',\n",
       " '0h 12m',\n",
       " '0h 12m',\n",
       " '0h 14m',\n",
       " '0h 15m',\n",
       " '0h 15m',\n",
       " '0h 15m',\n",
       " '0h 15m',\n",
       " '0h 15m',\n",
       " '0h 16m',\n",
       " '0h 17m',\n",
       " '0h 17m',\n",
       " '0h 18m',\n",
       " '0h 18m',\n",
       " '0h 19m',\n",
       " '0h 19m',\n",
       " '0h 19m',\n",
       " '0h 19m',\n",
       " '0h 19m',\n",
       " '0h 20m',\n",
       " '0h 20m',\n",
       " '0h 20m',\n",
       " '0h 20m',\n",
       " '0h 21m',\n",
       " '0h 21m',\n",
       " '0h 21m',\n",
       " '0h 21m',\n",
       " '0h 22m',\n",
       " '0h 22m',\n",
       " '0h 22m',\n",
       " '0h 22m',\n",
       " '0h 22m',\n",
       " '0h 22m',\n",
       " '0h 23m',\n",
       " '0h 23m',\n",
       " '0h 23m',\n",
       " '0h 23m',\n",
       " '0h 24m',\n",
       " '0h 24m',\n",
       " '0h 24m',\n",
       " '0h 24m',\n",
       " '0h 24m',\n",
       " '0h 24m',\n",
       " '0h 25m',\n",
       " '0h 25m',\n",
       " '0h 25m',\n",
       " '0h 25m',\n",
       " '0h 26m',\n",
       " '0h 26m',\n",
       " '0h 27m',\n",
       " '0h 27m',\n",
       " '0h 27m',\n",
       " '0h 27m',\n",
       " '0h 27m',\n",
       " '0h 28m',\n",
       " '0h 28m',\n",
       " '0h 28m',\n",
       " '0h 29m',\n",
       " '0h 29m',\n",
       " '0h 29m',\n",
       " '0h 29m',\n",
       " '0h 30m',\n",
       " '0h 31m',\n",
       " '0h 31m',\n",
       " '0h 31m',\n",
       " '0h 32m',\n",
       " '0h 32m',\n",
       " '0h 32m',\n",
       " '0h 33m',\n",
       " '0h 33m',\n",
       " '0h 33m',\n",
       " '0h 33m',\n",
       " '0h 34m',\n",
       " '0h 34m',\n",
       " '0h 34m',\n",
       " '0h 34m',\n",
       " '0h 35m',\n",
       " '0h 35m',\n",
       " '0h 36m',\n",
       " '0h 36m',\n",
       " '0h 37m',\n",
       " '0h 37m',\n",
       " '0h 37m',\n",
       " '0h 37m',\n",
       " '0h 37m',\n",
       " '0h 37m',\n",
       " '0h 38m',\n",
       " '0h 38m',\n",
       " '0h 38m',\n",
       " '0h 39m',\n",
       " '0h 39m',\n",
       " '0h 39m',\n",
       " '0h 39m',\n",
       " '0h 40m',\n",
       " '0h 40m',\n",
       " '0h 40m',\n",
       " '0h 41m',\n",
       " '0h 41m',\n",
       " '0h 41m',\n",
       " '0h 41m',\n",
       " '0h 41m',\n",
       " '0h 41m',\n",
       " '0h 42m',\n",
       " '0h 42m',\n",
       " '0h 42m',\n",
       " '0h 42m',\n",
       " '0h 42m',\n",
       " '0h 43m',\n",
       " '0h 43m',\n",
       " '0h 44m',\n",
       " '0h 44m',\n",
       " '0h 44m',\n",
       " '0h 45m',\n",
       " '0h 46m',\n",
       " '0h 46m',\n",
       " '0h 46m',\n",
       " '0h 46m',\n",
       " '0h 46m',\n",
       " '0h 46m',\n",
       " '0h 46m',\n",
       " '0h 46m',\n",
       " '0h 47m',\n",
       " '0h 47m',\n",
       " '0h 47m',\n",
       " '0h 47m',\n",
       " '0h 47m',\n",
       " '0h 47m',\n",
       " '0h 48m',\n",
       " '0h 48m',\n",
       " '0h 48m',\n",
       " '0h 48m']"
      ]
     },
     "execution_count": 75,
     "metadata": {},
     "output_type": "execute_result"
    }
   ],
   "source": [
    "[strfdelta(delta, fmt=\"{hours}h {minutes}m\") for delta in pd.to_timedelta(df.dtime, unit='s')]"
   ]
  },
  {
   "cell_type": "code",
   "execution_count": 84,
   "metadata": {
    "ExecuteTime": {
     "end_time": "2020-11-09T12:17:04.392443Z",
     "start_time": "2020-11-09T12:17:04.376040Z"
    }
   },
   "outputs": [],
   "source": [
    "def generate_map_plot(df):\n",
    "    if df is not None:\n",
    "        lons = df.lons.values\n",
    "        lats = df.lats.values\n",
    "        start_point = df.source.values[0]\n",
    "        end_point = df.destination.values[0]\n",
    "        zoom, center = zoom_center(lons, lats,\n",
    "                                   width_to_height=8)\n",
    "\n",
    "        fig = go.Figure(go.Scattermapbox(\n",
    "            lat=lats,\n",
    "            lon=lons,\n",
    "            mode='lines',\n",
    "            line=dict(width=2),\n",
    "            marker=dict(\n",
    "                size=5,\n",
    "            ),\n",
    "        name='itinerary',\n",
    "        hovertext=[strfdelta(delta, fmt=\"{hours}h {minutes}m\") \n",
    "                   for delta in pd.to_timedelta(df.dtime, unit='s')]))\n",
    "        \n",
    "        fig.add_trace(go.Scattermapbox(\n",
    "            lat=[lats[0]],\n",
    "            lon=[lons[0]],\n",
    "            mode='markers',\n",
    "            marker=dict(\n",
    "                size=15,\n",
    "            ),name='Start',\n",
    "         hovertext=start_point))\n",
    "\n",
    "        fig.add_trace(go.Scattermapbox(\n",
    "            lat=[lats[-1]],\n",
    "            lon=[lons[-1]],\n",
    "            mode='markers',\n",
    "            marker=dict(\n",
    "                size=15,\n",
    "            ),name='Destination',\n",
    "         hovertext=end_point))\n",
    "\n",
    "        fig.update_layout(\n",
    "            showlegend=False,\n",
    "            hovermode='closest',\n",
    "            mapbox=dict(\n",
    "                accesstoken=apiKey,\n",
    "                center=go.layout.mapbox.Center(\n",
    "                    lat=center['lat'],\n",
    "                    lon=center['lon']\n",
    "                ),\n",
    "                zoom=zoom\n",
    "            )\n",
    "        )\n",
    "    else:# make an empty map\n",
    "        fig = go.Figure(go.Scattermapbox())\n",
    "\n",
    "        fig.update_layout(\n",
    "            mapbox=dict(\n",
    "                accesstoken=apiKey,\n",
    "                center=go.layout.mapbox.Center(\n",
    "                    lat=51.326863,\n",
    "                    lon=10.354922\n",
    "                ),\n",
    "                zoom=4\n",
    "            )\n",
    "        )\n",
    "        \n",
    "    fig.update_layout(margin={\"r\": 0, \"t\": 0, \"l\": 0, \"b\": 0},\n",
    "        height=300)\n",
    "    return fig"
   ]
  },
  {
   "cell_type": "code",
   "execution_count": 85,
   "metadata": {
    "ExecuteTime": {
     "end_time": "2020-11-09T12:17:06.914827Z",
     "start_time": "2020-11-09T12:17:06.890049Z"
    }
   },
   "outputs": [
    {
     "data": {
      "application/vnd.plotly.v1+json": {
       "config": {
        "plotlyServerURL": "https://plot.ly"
       },
       "data": [
        {
         "hovertext": [
          "0h 0m",
          "0h 0m",
          "0h 1m",
          "0h 1m",
          "0h 1m",
          "0h 2m",
          "0h 2m",
          "0h 2m",
          "0h 3m",
          "0h 3m",
          "0h 3m",
          "0h 4m",
          "0h 4m",
          "0h 5m",
          "0h 5m",
          "0h 5m",
          "0h 5m",
          "0h 6m",
          "0h 6m",
          "0h 6m",
          "0h 6m",
          "0h 6m",
          "0h 6m",
          "0h 6m",
          "0h 6m",
          "0h 7m",
          "0h 7m",
          "0h 7m",
          "0h 7m",
          "0h 7m",
          "0h 8m",
          "0h 8m",
          "0h 8m",
          "0h 8m",
          "0h 9m",
          "0h 9m",
          "0h 9m",
          "0h 9m",
          "0h 10m",
          "0h 10m",
          "0h 10m",
          "0h 10m",
          "0h 10m",
          "0h 10m",
          "0h 10m",
          "0h 10m",
          "0h 11m",
          "0h 11m",
          "0h 11m",
          "0h 12m",
          "0h 12m",
          "0h 12m",
          "0h 14m",
          "0h 15m",
          "0h 15m",
          "0h 15m",
          "0h 15m",
          "0h 15m",
          "0h 16m",
          "0h 17m",
          "0h 17m",
          "0h 18m",
          "0h 18m",
          "0h 19m",
          "0h 19m",
          "0h 19m",
          "0h 19m",
          "0h 19m",
          "0h 20m",
          "0h 20m",
          "0h 20m",
          "0h 20m",
          "0h 21m",
          "0h 21m",
          "0h 21m",
          "0h 21m",
          "0h 22m",
          "0h 22m",
          "0h 22m",
          "0h 22m",
          "0h 22m",
          "0h 22m",
          "0h 23m",
          "0h 23m",
          "0h 23m",
          "0h 23m",
          "0h 24m",
          "0h 24m",
          "0h 24m",
          "0h 24m",
          "0h 24m",
          "0h 24m",
          "0h 25m",
          "0h 25m",
          "0h 25m",
          "0h 25m",
          "0h 26m",
          "0h 26m",
          "0h 27m",
          "0h 27m",
          "0h 27m",
          "0h 27m",
          "0h 27m",
          "0h 28m",
          "0h 28m",
          "0h 28m",
          "0h 29m",
          "0h 29m",
          "0h 29m",
          "0h 29m",
          "0h 30m",
          "0h 31m",
          "0h 31m",
          "0h 31m",
          "0h 32m",
          "0h 32m",
          "0h 32m",
          "0h 33m",
          "0h 33m",
          "0h 33m",
          "0h 33m",
          "0h 34m",
          "0h 34m",
          "0h 34m",
          "0h 34m",
          "0h 35m",
          "0h 35m",
          "0h 36m",
          "0h 36m",
          "0h 37m",
          "0h 37m",
          "0h 37m",
          "0h 37m",
          "0h 37m",
          "0h 37m",
          "0h 38m",
          "0h 38m",
          "0h 38m",
          "0h 39m",
          "0h 39m",
          "0h 39m",
          "0h 39m",
          "0h 40m",
          "0h 40m",
          "0h 40m",
          "0h 41m",
          "0h 41m",
          "0h 41m",
          "0h 41m",
          "0h 41m",
          "0h 41m",
          "0h 42m",
          "0h 42m",
          "0h 42m",
          "0h 42m",
          "0h 42m",
          "0h 43m",
          "0h 43m",
          "0h 44m",
          "0h 44m",
          "0h 44m",
          "0h 45m",
          "0h 46m",
          "0h 46m",
          "0h 46m",
          "0h 46m",
          "0h 46m",
          "0h 46m",
          "0h 46m",
          "0h 46m",
          "0h 47m",
          "0h 47m",
          "0h 47m",
          "0h 47m",
          "0h 47m",
          "0h 47m",
          "0h 48m",
          "0h 48m",
          "0h 48m",
          "0h 48m"
         ],
         "lat": [
          53.547771,
          53.547791,
          53.54789,
          53.547909,
          53.548,
          53.548443,
          53.548538,
          53.549,
          53.549381,
          53.549435,
          53.549454,
          53.550095,
          53.550201,
          53.550243,
          53.550304,
          53.550331,
          53.550343,
          53.550346,
          53.55035,
          53.550358,
          53.550362,
          53.55035,
          53.550335,
          53.55032,
          53.550404,
          53.550446,
          53.550491,
          53.550808,
          53.55101,
          53.551147,
          53.551456,
          53.551556,
          53.551765,
          53.551849,
          53.552143,
          53.552418,
          53.552517,
          53.552559,
          53.552593,
          53.552654,
          53.55267,
          53.552696,
          53.552975,
          53.55299,
          53.55302,
          53.553143,
          53.553341,
          53.553535,
          53.553612,
          53.553722,
          53.553818,
          53.553825,
          53.555119,
          53.555267,
          53.555389,
          53.555428,
          53.555511,
          53.555553,
          53.555767,
          53.556248,
          53.556652,
          53.557049,
          53.55719,
          53.557255,
          53.557404,
          53.557552,
          53.557625,
          53.557693,
          53.557751,
          53.557793,
          53.557926,
          53.558079,
          53.558201,
          53.558262,
          53.558331,
          53.558407,
          53.558571,
          53.55862,
          53.55867,
          53.558727,
          53.558788,
          53.558811,
          53.55896,
          53.559093,
          53.559124,
          53.559273,
          53.559551,
          53.559566,
          53.559631,
          53.559669,
          53.559727,
          53.559772,
          53.559807,
          53.559883,
          53.560001,
          53.56023,
          53.560513,
          53.560635,
          53.56089,
          53.560959,
          53.561119,
          53.561172,
          53.561279,
          53.561378,
          53.561443,
          53.561733,
          53.561871,
          53.562008,
          53.562092,
          53.562183,
          53.56263,
          53.562916,
          53.562992,
          53.563206,
          53.563347,
          53.563396,
          53.563557,
          53.563732,
          53.563839,
          53.563946,
          53.563969,
          53.564243,
          53.564323,
          53.564331,
          53.56435,
          53.564445,
          53.564495,
          53.564724,
          53.564999,
          53.565044,
          53.565071,
          53.565201,
          53.56522,
          53.565269,
          53.565365,
          53.565468,
          53.565571,
          53.565735,
          53.56604,
          53.566139,
          53.566414,
          53.566456,
          53.566502,
          53.566525,
          53.566818,
          53.567017,
          53.567066,
          53.567123,
          53.567184,
          53.567261,
          53.567287,
          53.567364,
          53.56739,
          53.567337,
          53.567394,
          53.567314,
          53.567081,
          53.566914,
          53.566643,
          53.566463,
          53.566551,
          53.566956,
          53.567402,
          53.567535,
          53.567562,
          53.567558,
          53.567535,
          53.567577,
          53.567585,
          53.567688,
          53.567738,
          53.56789,
          53.568127,
          53.568092,
          53.568077,
          53.568054,
          53.567913,
          53.567806,
          53.567753,
          53.567741
         ],
         "line": {
          "width": 2
         },
         "lon": [
          9.930298,
          9.930543,
          9.931739,
          9.932055,
          9.932044,
          9.932452,
          9.93252,
          9.932628,
          9.932719,
          9.932729,
          9.932735,
          9.93286,
          9.933098,
          9.933696,
          9.934659,
          9.934804,
          9.93489,
          9.934941,
          9.935065,
          9.935153,
          9.93528,
          9.935426,
          9.935597,
          9.935896,
          9.935921,
          9.936079,
          9.936079,
          9.9361,
          9.936137,
          9.936178,
          9.936292,
          9.936347,
          9.936469,
          9.936526,
          9.93673,
          9.937021,
          9.93715,
          9.937203,
          9.937251,
          9.937332,
          9.937351,
          9.937392,
          9.937788,
          9.937809,
          9.937853,
          9.938052,
          9.938397,
          9.938731,
          9.938862,
          9.939072,
          9.939255,
          9.939272,
          9.941746,
          9.942024,
          9.942253,
          9.942325,
          9.942484,
          9.942563,
          9.94298,
          9.943906,
          9.944684,
          9.945443,
          9.945713,
          9.945837,
          9.946127,
          9.946412,
          9.946551,
          9.946727,
          9.946919,
          9.947049,
          9.947369,
          9.94773,
          9.947941,
          9.948041,
          9.948184,
          9.948406,
          9.948912,
          9.949065,
          9.949214,
          9.949392,
          9.949589,
          9.949647,
          9.950091,
          9.950638,
          9.950701,
          9.951043,
          9.951613,
          9.951644,
          9.951778,
          9.951866,
          9.951978,
          9.952065,
          9.952134,
          9.952301,
          9.952535,
          9.952997,
          9.95355,
          9.953783,
          9.954279,
          9.954409,
          9.954711,
          9.954813,
          9.955017,
          9.955228,
          9.955372,
          9.955945,
          9.956217,
          9.956493,
          9.956663,
          9.956834,
          9.957689,
          9.958271,
          9.958421,
          9.95886,
          9.95914,
          9.959239,
          9.959605,
          9.960124,
          9.960489,
          9.960867,
          9.960943,
          9.961936,
          9.962222,
          9.962261,
          9.962321,
          9.96268,
          9.962858,
          9.963684,
          9.964658,
          9.964792,
          9.964859,
          9.965192,
          9.965244,
          9.965361,
          9.965578,
          9.965764,
          9.965945,
          9.966251,
          9.966836,
          9.967026,
          9.967576,
          9.967659,
          9.96774,
          9.967783,
          9.968387,
          9.968785,
          9.968886,
          9.969008,
          9.969161,
          9.969385,
          9.969561,
          9.969861,
          9.969958,
          9.970069,
          9.970258,
          9.970431,
          9.970946,
          9.971481,
          9.972064,
          9.972442,
          9.972573,
          9.973194,
          9.973879,
          9.974083,
          9.974193,
          9.974251,
          9.974312,
          9.974409,
          9.974428,
          9.97471,
          9.974965,
          9.974993,
          9.975351,
          9.975421,
          9.975494,
          9.975558,
          9.97579,
          9.975353,
          9.975385,
          9.975339
         ],
         "marker": {
          "size": 5
         },
         "mode": "lines",
         "name": "itinerary",
         "type": "scattermapbox"
        },
        {
         "hovertext": "Holländische Reihe 15, 22765 Hamburg, Germany",
         "lat": [
          53.547771
         ],
         "lon": [
          9.930298
         ],
         "marker": {
          "size": 15
         },
         "mode": "markers",
         "name": "Start",
         "type": "scattermapbox"
        },
        {
         "hovertext": "Bundesstraße 53, 20146 Hamburg, Germany",
         "lat": [
          53.567741
         ],
         "lon": [
          9.975339
         ],
         "marker": {
          "size": 15
         },
         "mode": "markers",
         "name": "Destination",
         "type": "scattermapbox"
        }
       ],
       "layout": {
        "height": 300,
        "hovermode": "closest",
        "mapbox": {
         "accesstoken": "pk.eyJ1IjoiZ3VpZG9jaW9uaSIsImEiOiJjazM1enl2Z2swMnRuM2ttMnB2M2JhMHowIn0.5JEF8Cj8MDsmOF0R9Lbe3w",
         "center": {
          "lat": 53.557949,
          "lon": 9.953044
         },
         "zoom": 11.98
        },
        "margin": {
         "b": 0,
         "l": 0,
         "r": 0,
         "t": 0
        },
        "showlegend": false,
        "template": {
         "data": {
          "bar": [
           {
            "error_x": {
             "color": "#2a3f5f"
            },
            "error_y": {
             "color": "#2a3f5f"
            },
            "marker": {
             "line": {
              "color": "#E5ECF6",
              "width": 0.5
             }
            },
            "type": "bar"
           }
          ],
          "barpolar": [
           {
            "marker": {
             "line": {
              "color": "#E5ECF6",
              "width": 0.5
             }
            },
            "type": "barpolar"
           }
          ],
          "carpet": [
           {
            "aaxis": {
             "endlinecolor": "#2a3f5f",
             "gridcolor": "white",
             "linecolor": "white",
             "minorgridcolor": "white",
             "startlinecolor": "#2a3f5f"
            },
            "baxis": {
             "endlinecolor": "#2a3f5f",
             "gridcolor": "white",
             "linecolor": "white",
             "minorgridcolor": "white",
             "startlinecolor": "#2a3f5f"
            },
            "type": "carpet"
           }
          ],
          "choropleth": [
           {
            "colorbar": {
             "outlinewidth": 0,
             "ticks": ""
            },
            "type": "choropleth"
           }
          ],
          "contour": [
           {
            "colorbar": {
             "outlinewidth": 0,
             "ticks": ""
            },
            "colorscale": [
             [
              0,
              "#0d0887"
             ],
             [
              0.1111111111111111,
              "#46039f"
             ],
             [
              0.2222222222222222,
              "#7201a8"
             ],
             [
              0.3333333333333333,
              "#9c179e"
             ],
             [
              0.4444444444444444,
              "#bd3786"
             ],
             [
              0.5555555555555556,
              "#d8576b"
             ],
             [
              0.6666666666666666,
              "#ed7953"
             ],
             [
              0.7777777777777778,
              "#fb9f3a"
             ],
             [
              0.8888888888888888,
              "#fdca26"
             ],
             [
              1,
              "#f0f921"
             ]
            ],
            "type": "contour"
           }
          ],
          "contourcarpet": [
           {
            "colorbar": {
             "outlinewidth": 0,
             "ticks": ""
            },
            "type": "contourcarpet"
           }
          ],
          "heatmap": [
           {
            "colorbar": {
             "outlinewidth": 0,
             "ticks": ""
            },
            "colorscale": [
             [
              0,
              "#0d0887"
             ],
             [
              0.1111111111111111,
              "#46039f"
             ],
             [
              0.2222222222222222,
              "#7201a8"
             ],
             [
              0.3333333333333333,
              "#9c179e"
             ],
             [
              0.4444444444444444,
              "#bd3786"
             ],
             [
              0.5555555555555556,
              "#d8576b"
             ],
             [
              0.6666666666666666,
              "#ed7953"
             ],
             [
              0.7777777777777778,
              "#fb9f3a"
             ],
             [
              0.8888888888888888,
              "#fdca26"
             ],
             [
              1,
              "#f0f921"
             ]
            ],
            "type": "heatmap"
           }
          ],
          "heatmapgl": [
           {
            "colorbar": {
             "outlinewidth": 0,
             "ticks": ""
            },
            "colorscale": [
             [
              0,
              "#0d0887"
             ],
             [
              0.1111111111111111,
              "#46039f"
             ],
             [
              0.2222222222222222,
              "#7201a8"
             ],
             [
              0.3333333333333333,
              "#9c179e"
             ],
             [
              0.4444444444444444,
              "#bd3786"
             ],
             [
              0.5555555555555556,
              "#d8576b"
             ],
             [
              0.6666666666666666,
              "#ed7953"
             ],
             [
              0.7777777777777778,
              "#fb9f3a"
             ],
             [
              0.8888888888888888,
              "#fdca26"
             ],
             [
              1,
              "#f0f921"
             ]
            ],
            "type": "heatmapgl"
           }
          ],
          "histogram": [
           {
            "marker": {
             "colorbar": {
              "outlinewidth": 0,
              "ticks": ""
             }
            },
            "type": "histogram"
           }
          ],
          "histogram2d": [
           {
            "colorbar": {
             "outlinewidth": 0,
             "ticks": ""
            },
            "colorscale": [
             [
              0,
              "#0d0887"
             ],
             [
              0.1111111111111111,
              "#46039f"
             ],
             [
              0.2222222222222222,
              "#7201a8"
             ],
             [
              0.3333333333333333,
              "#9c179e"
             ],
             [
              0.4444444444444444,
              "#bd3786"
             ],
             [
              0.5555555555555556,
              "#d8576b"
             ],
             [
              0.6666666666666666,
              "#ed7953"
             ],
             [
              0.7777777777777778,
              "#fb9f3a"
             ],
             [
              0.8888888888888888,
              "#fdca26"
             ],
             [
              1,
              "#f0f921"
             ]
            ],
            "type": "histogram2d"
           }
          ],
          "histogram2dcontour": [
           {
            "colorbar": {
             "outlinewidth": 0,
             "ticks": ""
            },
            "colorscale": [
             [
              0,
              "#0d0887"
             ],
             [
              0.1111111111111111,
              "#46039f"
             ],
             [
              0.2222222222222222,
              "#7201a8"
             ],
             [
              0.3333333333333333,
              "#9c179e"
             ],
             [
              0.4444444444444444,
              "#bd3786"
             ],
             [
              0.5555555555555556,
              "#d8576b"
             ],
             [
              0.6666666666666666,
              "#ed7953"
             ],
             [
              0.7777777777777778,
              "#fb9f3a"
             ],
             [
              0.8888888888888888,
              "#fdca26"
             ],
             [
              1,
              "#f0f921"
             ]
            ],
            "type": "histogram2dcontour"
           }
          ],
          "mesh3d": [
           {
            "colorbar": {
             "outlinewidth": 0,
             "ticks": ""
            },
            "type": "mesh3d"
           }
          ],
          "parcoords": [
           {
            "line": {
             "colorbar": {
              "outlinewidth": 0,
              "ticks": ""
             }
            },
            "type": "parcoords"
           }
          ],
          "pie": [
           {
            "automargin": true,
            "type": "pie"
           }
          ],
          "scatter": [
           {
            "marker": {
             "colorbar": {
              "outlinewidth": 0,
              "ticks": ""
             }
            },
            "type": "scatter"
           }
          ],
          "scatter3d": [
           {
            "line": {
             "colorbar": {
              "outlinewidth": 0,
              "ticks": ""
             }
            },
            "marker": {
             "colorbar": {
              "outlinewidth": 0,
              "ticks": ""
             }
            },
            "type": "scatter3d"
           }
          ],
          "scattercarpet": [
           {
            "marker": {
             "colorbar": {
              "outlinewidth": 0,
              "ticks": ""
             }
            },
            "type": "scattercarpet"
           }
          ],
          "scattergeo": [
           {
            "marker": {
             "colorbar": {
              "outlinewidth": 0,
              "ticks": ""
             }
            },
            "type": "scattergeo"
           }
          ],
          "scattergl": [
           {
            "marker": {
             "colorbar": {
              "outlinewidth": 0,
              "ticks": ""
             }
            },
            "type": "scattergl"
           }
          ],
          "scattermapbox": [
           {
            "marker": {
             "colorbar": {
              "outlinewidth": 0,
              "ticks": ""
             }
            },
            "type": "scattermapbox"
           }
          ],
          "scatterpolar": [
           {
            "marker": {
             "colorbar": {
              "outlinewidth": 0,
              "ticks": ""
             }
            },
            "type": "scatterpolar"
           }
          ],
          "scatterpolargl": [
           {
            "marker": {
             "colorbar": {
              "outlinewidth": 0,
              "ticks": ""
             }
            },
            "type": "scatterpolargl"
           }
          ],
          "scatterternary": [
           {
            "marker": {
             "colorbar": {
              "outlinewidth": 0,
              "ticks": ""
             }
            },
            "type": "scatterternary"
           }
          ],
          "surface": [
           {
            "colorbar": {
             "outlinewidth": 0,
             "ticks": ""
            },
            "colorscale": [
             [
              0,
              "#0d0887"
             ],
             [
              0.1111111111111111,
              "#46039f"
             ],
             [
              0.2222222222222222,
              "#7201a8"
             ],
             [
              0.3333333333333333,
              "#9c179e"
             ],
             [
              0.4444444444444444,
              "#bd3786"
             ],
             [
              0.5555555555555556,
              "#d8576b"
             ],
             [
              0.6666666666666666,
              "#ed7953"
             ],
             [
              0.7777777777777778,
              "#fb9f3a"
             ],
             [
              0.8888888888888888,
              "#fdca26"
             ],
             [
              1,
              "#f0f921"
             ]
            ],
            "type": "surface"
           }
          ],
          "table": [
           {
            "cells": {
             "fill": {
              "color": "#EBF0F8"
             },
             "line": {
              "color": "white"
             }
            },
            "header": {
             "fill": {
              "color": "#C8D4E3"
             },
             "line": {
              "color": "white"
             }
            },
            "type": "table"
           }
          ]
         },
         "layout": {
          "annotationdefaults": {
           "arrowcolor": "#2a3f5f",
           "arrowhead": 0,
           "arrowwidth": 1
          },
          "coloraxis": {
           "colorbar": {
            "outlinewidth": 0,
            "ticks": ""
           }
          },
          "colorscale": {
           "diverging": [
            [
             0,
             "#8e0152"
            ],
            [
             0.1,
             "#c51b7d"
            ],
            [
             0.2,
             "#de77ae"
            ],
            [
             0.3,
             "#f1b6da"
            ],
            [
             0.4,
             "#fde0ef"
            ],
            [
             0.5,
             "#f7f7f7"
            ],
            [
             0.6,
             "#e6f5d0"
            ],
            [
             0.7,
             "#b8e186"
            ],
            [
             0.8,
             "#7fbc41"
            ],
            [
             0.9,
             "#4d9221"
            ],
            [
             1,
             "#276419"
            ]
           ],
           "sequential": [
            [
             0,
             "#0d0887"
            ],
            [
             0.1111111111111111,
             "#46039f"
            ],
            [
             0.2222222222222222,
             "#7201a8"
            ],
            [
             0.3333333333333333,
             "#9c179e"
            ],
            [
             0.4444444444444444,
             "#bd3786"
            ],
            [
             0.5555555555555556,
             "#d8576b"
            ],
            [
             0.6666666666666666,
             "#ed7953"
            ],
            [
             0.7777777777777778,
             "#fb9f3a"
            ],
            [
             0.8888888888888888,
             "#fdca26"
            ],
            [
             1,
             "#f0f921"
            ]
           ],
           "sequentialminus": [
            [
             0,
             "#0d0887"
            ],
            [
             0.1111111111111111,
             "#46039f"
            ],
            [
             0.2222222222222222,
             "#7201a8"
            ],
            [
             0.3333333333333333,
             "#9c179e"
            ],
            [
             0.4444444444444444,
             "#bd3786"
            ],
            [
             0.5555555555555556,
             "#d8576b"
            ],
            [
             0.6666666666666666,
             "#ed7953"
            ],
            [
             0.7777777777777778,
             "#fb9f3a"
            ],
            [
             0.8888888888888888,
             "#fdca26"
            ],
            [
             1,
             "#f0f921"
            ]
           ]
          },
          "colorway": [
           "#636efa",
           "#EF553B",
           "#00cc96",
           "#ab63fa",
           "#FFA15A",
           "#19d3f3",
           "#FF6692",
           "#B6E880",
           "#FF97FF",
           "#FECB52"
          ],
          "font": {
           "color": "#2a3f5f"
          },
          "geo": {
           "bgcolor": "white",
           "lakecolor": "white",
           "landcolor": "#E5ECF6",
           "showlakes": true,
           "showland": true,
           "subunitcolor": "white"
          },
          "hoverlabel": {
           "align": "left"
          },
          "hovermode": "closest",
          "mapbox": {
           "style": "light"
          },
          "paper_bgcolor": "white",
          "plot_bgcolor": "#E5ECF6",
          "polar": {
           "angularaxis": {
            "gridcolor": "white",
            "linecolor": "white",
            "ticks": ""
           },
           "bgcolor": "#E5ECF6",
           "radialaxis": {
            "gridcolor": "white",
            "linecolor": "white",
            "ticks": ""
           }
          },
          "scene": {
           "xaxis": {
            "backgroundcolor": "#E5ECF6",
            "gridcolor": "white",
            "gridwidth": 2,
            "linecolor": "white",
            "showbackground": true,
            "ticks": "",
            "zerolinecolor": "white"
           },
           "yaxis": {
            "backgroundcolor": "#E5ECF6",
            "gridcolor": "white",
            "gridwidth": 2,
            "linecolor": "white",
            "showbackground": true,
            "ticks": "",
            "zerolinecolor": "white"
           },
           "zaxis": {
            "backgroundcolor": "#E5ECF6",
            "gridcolor": "white",
            "gridwidth": 2,
            "linecolor": "white",
            "showbackground": true,
            "ticks": "",
            "zerolinecolor": "white"
           }
          },
          "shapedefaults": {
           "line": {
            "color": "#2a3f5f"
           }
          },
          "ternary": {
           "aaxis": {
            "gridcolor": "white",
            "linecolor": "white",
            "ticks": ""
           },
           "baxis": {
            "gridcolor": "white",
            "linecolor": "white",
            "ticks": ""
           },
           "bgcolor": "#E5ECF6",
           "caxis": {
            "gridcolor": "white",
            "linecolor": "white",
            "ticks": ""
           }
          },
          "title": {
           "x": 0.05
          },
          "xaxis": {
           "automargin": true,
           "gridcolor": "white",
           "linecolor": "white",
           "ticks": "",
           "title": {
            "standoff": 15
           },
           "zerolinecolor": "white",
           "zerolinewidth": 2
          },
          "yaxis": {
           "automargin": true,
           "gridcolor": "white",
           "linecolor": "white",
           "ticks": "",
           "title": {
            "standoff": 15
           },
           "zerolinecolor": "white",
           "zerolinewidth": 2
          }
         }
        }
       }
      },
      "text/html": [
       "<div>                            <div id=\"89f80bf4-d6d6-4980-b6c0-dbdfdbab7ba1\" class=\"plotly-graph-div\" style=\"height:300px; width:100%;\"></div>            <script type=\"text/javascript\">                require([\"plotly\"], function(Plotly) {                    window.PLOTLYENV=window.PLOTLYENV || {};                                    if (document.getElementById(\"89f80bf4-d6d6-4980-b6c0-dbdfdbab7ba1\")) {                    Plotly.newPlot(                        \"89f80bf4-d6d6-4980-b6c0-dbdfdbab7ba1\",                        [{\"hovertext\": [\"0h 0m\", \"0h 0m\", \"0h 1m\", \"0h 1m\", \"0h 1m\", \"0h 2m\", \"0h 2m\", \"0h 2m\", \"0h 3m\", \"0h 3m\", \"0h 3m\", \"0h 4m\", \"0h 4m\", \"0h 5m\", \"0h 5m\", \"0h 5m\", \"0h 5m\", \"0h 6m\", \"0h 6m\", \"0h 6m\", \"0h 6m\", \"0h 6m\", \"0h 6m\", \"0h 6m\", \"0h 6m\", \"0h 7m\", \"0h 7m\", \"0h 7m\", \"0h 7m\", \"0h 7m\", \"0h 8m\", \"0h 8m\", \"0h 8m\", \"0h 8m\", \"0h 9m\", \"0h 9m\", \"0h 9m\", \"0h 9m\", \"0h 10m\", \"0h 10m\", \"0h 10m\", \"0h 10m\", \"0h 10m\", \"0h 10m\", \"0h 10m\", \"0h 10m\", \"0h 11m\", \"0h 11m\", \"0h 11m\", \"0h 12m\", \"0h 12m\", \"0h 12m\", \"0h 14m\", \"0h 15m\", \"0h 15m\", \"0h 15m\", \"0h 15m\", \"0h 15m\", \"0h 16m\", \"0h 17m\", \"0h 17m\", \"0h 18m\", \"0h 18m\", \"0h 19m\", \"0h 19m\", \"0h 19m\", \"0h 19m\", \"0h 19m\", \"0h 20m\", \"0h 20m\", \"0h 20m\", \"0h 20m\", \"0h 21m\", \"0h 21m\", \"0h 21m\", \"0h 21m\", \"0h 22m\", \"0h 22m\", \"0h 22m\", \"0h 22m\", \"0h 22m\", \"0h 22m\", \"0h 23m\", \"0h 23m\", \"0h 23m\", \"0h 23m\", \"0h 24m\", \"0h 24m\", \"0h 24m\", \"0h 24m\", \"0h 24m\", \"0h 24m\", \"0h 25m\", \"0h 25m\", \"0h 25m\", \"0h 25m\", \"0h 26m\", \"0h 26m\", \"0h 27m\", \"0h 27m\", \"0h 27m\", \"0h 27m\", \"0h 27m\", \"0h 28m\", \"0h 28m\", \"0h 28m\", \"0h 29m\", \"0h 29m\", \"0h 29m\", \"0h 29m\", \"0h 30m\", \"0h 31m\", \"0h 31m\", \"0h 31m\", \"0h 32m\", \"0h 32m\", \"0h 32m\", \"0h 33m\", \"0h 33m\", \"0h 33m\", \"0h 33m\", \"0h 34m\", \"0h 34m\", \"0h 34m\", \"0h 34m\", \"0h 35m\", \"0h 35m\", \"0h 36m\", \"0h 36m\", \"0h 37m\", \"0h 37m\", \"0h 37m\", \"0h 37m\", \"0h 37m\", \"0h 37m\", \"0h 38m\", \"0h 38m\", \"0h 38m\", \"0h 39m\", \"0h 39m\", \"0h 39m\", \"0h 39m\", \"0h 40m\", \"0h 40m\", \"0h 40m\", \"0h 41m\", \"0h 41m\", \"0h 41m\", \"0h 41m\", \"0h 41m\", \"0h 41m\", \"0h 42m\", \"0h 42m\", \"0h 42m\", \"0h 42m\", \"0h 42m\", \"0h 43m\", \"0h 43m\", \"0h 44m\", \"0h 44m\", \"0h 44m\", \"0h 45m\", \"0h 46m\", \"0h 46m\", \"0h 46m\", \"0h 46m\", \"0h 46m\", \"0h 46m\", \"0h 46m\", \"0h 46m\", \"0h 47m\", \"0h 47m\", \"0h 47m\", \"0h 47m\", \"0h 47m\", \"0h 47m\", \"0h 48m\", \"0h 48m\", \"0h 48m\", \"0h 48m\"], \"lat\": [53.547771, 53.547791, 53.54789, 53.547909, 53.548, 53.548443, 53.548538, 53.549, 53.549381, 53.549435, 53.549454, 53.550095, 53.550201, 53.550243, 53.550304, 53.550331, 53.550343, 53.550346, 53.55035, 53.550358, 53.550362, 53.55035, 53.550335, 53.55032, 53.550404, 53.550446, 53.550491, 53.550808, 53.55101, 53.551147, 53.551456, 53.551556, 53.551765, 53.551849, 53.552143, 53.552418, 53.552517, 53.552559, 53.552593, 53.552654, 53.55267, 53.552696, 53.552975, 53.55299, 53.55302, 53.553143, 53.553341, 53.553535, 53.553612, 53.553722, 53.553818, 53.553825, 53.555119, 53.555267, 53.555389, 53.555428, 53.555511, 53.555553, 53.555767, 53.556248, 53.556652, 53.557049, 53.55719, 53.557255, 53.557404, 53.557552, 53.557625, 53.557693, 53.557751, 53.557793, 53.557926, 53.558079, 53.558201, 53.558262, 53.558331, 53.558407, 53.558571, 53.55862, 53.55867, 53.558727, 53.558788, 53.558811, 53.55896, 53.559093, 53.559124, 53.559273, 53.559551, 53.559566, 53.559631, 53.559669, 53.559727, 53.559772, 53.559807, 53.559883, 53.560001, 53.56023, 53.560513, 53.560635, 53.56089, 53.560959, 53.561119, 53.561172, 53.561279, 53.561378, 53.561443, 53.561733, 53.561871, 53.562008, 53.562092, 53.562183, 53.56263, 53.562916, 53.562992, 53.563206, 53.563347, 53.563396, 53.563557, 53.563732, 53.563839, 53.563946, 53.563969, 53.564243, 53.564323, 53.564331, 53.56435, 53.564445, 53.564495, 53.564724, 53.564999, 53.565044, 53.565071, 53.565201, 53.56522, 53.565269, 53.565365, 53.565468, 53.565571, 53.565735, 53.56604, 53.566139, 53.566414, 53.566456, 53.566502, 53.566525, 53.566818, 53.567017, 53.567066, 53.567123, 53.567184, 53.567261, 53.567287, 53.567364, 53.56739, 53.567337, 53.567394, 53.567314, 53.567081, 53.566914, 53.566643, 53.566463, 53.566551, 53.566956, 53.567402, 53.567535, 53.567562, 53.567558, 53.567535, 53.567577, 53.567585, 53.567688, 53.567738, 53.56789, 53.568127, 53.568092, 53.568077, 53.568054, 53.567913, 53.567806, 53.567753, 53.567741], \"line\": {\"width\": 2}, \"lon\": [9.930298, 9.930543, 9.931739, 9.932055, 9.932044, 9.932452, 9.93252, 9.932628, 9.932719, 9.932729, 9.932735, 9.93286, 9.933098, 9.933696, 9.934659, 9.934804, 9.93489, 9.934941, 9.935065, 9.935153, 9.93528, 9.935426, 9.935597, 9.935896, 9.935921, 9.936079, 9.936079, 9.9361, 9.936137, 9.936178, 9.936292, 9.936347, 9.936469, 9.936526, 9.93673, 9.937021, 9.93715, 9.937203, 9.937251, 9.937332, 9.937351, 9.937392, 9.937788, 9.937809, 9.937853, 9.938052, 9.938397, 9.938731, 9.938862, 9.939072, 9.939255, 9.939272, 9.941746, 9.942024, 9.942253, 9.942325, 9.942484, 9.942563, 9.94298, 9.943906, 9.944684, 9.945443, 9.945713, 9.945837, 9.946127, 9.946412, 9.946551, 9.946727, 9.946919, 9.947049, 9.947369, 9.94773, 9.947941, 9.948041, 9.948184, 9.948406, 9.948912, 9.949065, 9.949214, 9.949392, 9.949589, 9.949647, 9.950091, 9.950638, 9.950701, 9.951043, 9.951613, 9.951644, 9.951778, 9.951866, 9.951978, 9.952065, 9.952134, 9.952301, 9.952535, 9.952997, 9.95355, 9.953783, 9.954279, 9.954409, 9.954711, 9.954813, 9.955017, 9.955228, 9.955372, 9.955945, 9.956217, 9.956493, 9.956663, 9.956834, 9.957689, 9.958271, 9.958421, 9.95886, 9.95914, 9.959239, 9.959605, 9.960124, 9.960489, 9.960867, 9.960943, 9.961936, 9.962222, 9.962261, 9.962321, 9.96268, 9.962858, 9.963684, 9.964658, 9.964792, 9.964859, 9.965192, 9.965244, 9.965361, 9.965578, 9.965764, 9.965945, 9.966251, 9.966836, 9.967026, 9.967576, 9.967659, 9.96774, 9.967783, 9.968387, 9.968785, 9.968886, 9.969008, 9.969161, 9.969385, 9.969561, 9.969861, 9.969958, 9.970069, 9.970258, 9.970431, 9.970946, 9.971481, 9.972064, 9.972442, 9.972573, 9.973194, 9.973879, 9.974083, 9.974193, 9.974251, 9.974312, 9.974409, 9.974428, 9.97471, 9.974965, 9.974993, 9.975351, 9.975421, 9.975494, 9.975558, 9.97579, 9.975353, 9.975385, 9.975339], \"marker\": {\"size\": 5}, \"mode\": \"lines\", \"name\": \"itinerary\", \"type\": \"scattermapbox\"}, {\"hovertext\": \"Holl\\u00e4ndische Reihe 15, 22765 Hamburg, Germany\", \"lat\": [53.547771], \"lon\": [9.930298], \"marker\": {\"size\": 15}, \"mode\": \"markers\", \"name\": \"Start\", \"type\": \"scattermapbox\"}, {\"hovertext\": \"Bundesstra\\u00dfe 53, 20146 Hamburg, Germany\", \"lat\": [53.567741], \"lon\": [9.975339], \"marker\": {\"size\": 15}, \"mode\": \"markers\", \"name\": \"Destination\", \"type\": \"scattermapbox\"}],                        {\"height\": 300, \"hovermode\": \"closest\", \"mapbox\": {\"accesstoken\": \"pk.eyJ1IjoiZ3VpZG9jaW9uaSIsImEiOiJjazM1enl2Z2swMnRuM2ttMnB2M2JhMHowIn0.5JEF8Cj8MDsmOF0R9Lbe3w\", \"center\": {\"lat\": 53.557949, \"lon\": 9.953044}, \"zoom\": 11.98}, \"margin\": {\"b\": 0, \"l\": 0, \"r\": 0, \"t\": 0}, \"showlegend\": false, \"template\": {\"data\": {\"bar\": [{\"error_x\": {\"color\": \"#2a3f5f\"}, \"error_y\": {\"color\": \"#2a3f5f\"}, \"marker\": {\"line\": {\"color\": \"#E5ECF6\", \"width\": 0.5}}, \"type\": \"bar\"}], \"barpolar\": [{\"marker\": {\"line\": {\"color\": \"#E5ECF6\", \"width\": 0.5}}, \"type\": \"barpolar\"}], \"carpet\": [{\"aaxis\": {\"endlinecolor\": \"#2a3f5f\", \"gridcolor\": \"white\", \"linecolor\": \"white\", \"minorgridcolor\": \"white\", \"startlinecolor\": \"#2a3f5f\"}, \"baxis\": {\"endlinecolor\": \"#2a3f5f\", \"gridcolor\": \"white\", \"linecolor\": \"white\", \"minorgridcolor\": \"white\", \"startlinecolor\": \"#2a3f5f\"}, \"type\": \"carpet\"}], \"choropleth\": [{\"colorbar\": {\"outlinewidth\": 0, \"ticks\": \"\"}, \"type\": \"choropleth\"}], \"contour\": [{\"colorbar\": {\"outlinewidth\": 0, \"ticks\": \"\"}, \"colorscale\": [[0.0, \"#0d0887\"], [0.1111111111111111, \"#46039f\"], [0.2222222222222222, \"#7201a8\"], [0.3333333333333333, \"#9c179e\"], [0.4444444444444444, \"#bd3786\"], [0.5555555555555556, \"#d8576b\"], [0.6666666666666666, \"#ed7953\"], [0.7777777777777778, \"#fb9f3a\"], [0.8888888888888888, \"#fdca26\"], [1.0, \"#f0f921\"]], \"type\": \"contour\"}], \"contourcarpet\": [{\"colorbar\": {\"outlinewidth\": 0, \"ticks\": \"\"}, \"type\": \"contourcarpet\"}], \"heatmap\": [{\"colorbar\": {\"outlinewidth\": 0, \"ticks\": \"\"}, \"colorscale\": [[0.0, \"#0d0887\"], [0.1111111111111111, \"#46039f\"], [0.2222222222222222, \"#7201a8\"], [0.3333333333333333, \"#9c179e\"], [0.4444444444444444, \"#bd3786\"], [0.5555555555555556, \"#d8576b\"], [0.6666666666666666, \"#ed7953\"], [0.7777777777777778, \"#fb9f3a\"], [0.8888888888888888, \"#fdca26\"], [1.0, \"#f0f921\"]], \"type\": \"heatmap\"}], \"heatmapgl\": [{\"colorbar\": {\"outlinewidth\": 0, \"ticks\": \"\"}, \"colorscale\": [[0.0, \"#0d0887\"], [0.1111111111111111, \"#46039f\"], [0.2222222222222222, \"#7201a8\"], [0.3333333333333333, \"#9c179e\"], [0.4444444444444444, \"#bd3786\"], [0.5555555555555556, \"#d8576b\"], [0.6666666666666666, \"#ed7953\"], [0.7777777777777778, \"#fb9f3a\"], [0.8888888888888888, \"#fdca26\"], [1.0, \"#f0f921\"]], \"type\": \"heatmapgl\"}], \"histogram\": [{\"marker\": {\"colorbar\": {\"outlinewidth\": 0, \"ticks\": \"\"}}, \"type\": \"histogram\"}], \"histogram2d\": [{\"colorbar\": {\"outlinewidth\": 0, \"ticks\": \"\"}, \"colorscale\": [[0.0, \"#0d0887\"], [0.1111111111111111, \"#46039f\"], [0.2222222222222222, \"#7201a8\"], [0.3333333333333333, \"#9c179e\"], [0.4444444444444444, \"#bd3786\"], [0.5555555555555556, \"#d8576b\"], [0.6666666666666666, \"#ed7953\"], [0.7777777777777778, \"#fb9f3a\"], [0.8888888888888888, \"#fdca26\"], [1.0, \"#f0f921\"]], \"type\": \"histogram2d\"}], \"histogram2dcontour\": [{\"colorbar\": {\"outlinewidth\": 0, \"ticks\": \"\"}, \"colorscale\": [[0.0, \"#0d0887\"], [0.1111111111111111, \"#46039f\"], [0.2222222222222222, \"#7201a8\"], [0.3333333333333333, \"#9c179e\"], [0.4444444444444444, \"#bd3786\"], [0.5555555555555556, \"#d8576b\"], [0.6666666666666666, \"#ed7953\"], [0.7777777777777778, \"#fb9f3a\"], [0.8888888888888888, \"#fdca26\"], [1.0, \"#f0f921\"]], \"type\": \"histogram2dcontour\"}], \"mesh3d\": [{\"colorbar\": {\"outlinewidth\": 0, \"ticks\": \"\"}, \"type\": \"mesh3d\"}], \"parcoords\": [{\"line\": {\"colorbar\": {\"outlinewidth\": 0, \"ticks\": \"\"}}, \"type\": \"parcoords\"}], \"pie\": [{\"automargin\": true, \"type\": \"pie\"}], \"scatter\": [{\"marker\": {\"colorbar\": {\"outlinewidth\": 0, \"ticks\": \"\"}}, \"type\": \"scatter\"}], \"scatter3d\": [{\"line\": {\"colorbar\": {\"outlinewidth\": 0, \"ticks\": \"\"}}, \"marker\": {\"colorbar\": {\"outlinewidth\": 0, \"ticks\": \"\"}}, \"type\": \"scatter3d\"}], \"scattercarpet\": [{\"marker\": {\"colorbar\": {\"outlinewidth\": 0, \"ticks\": \"\"}}, \"type\": \"scattercarpet\"}], \"scattergeo\": [{\"marker\": {\"colorbar\": {\"outlinewidth\": 0, \"ticks\": \"\"}}, \"type\": \"scattergeo\"}], \"scattergl\": [{\"marker\": {\"colorbar\": {\"outlinewidth\": 0, \"ticks\": \"\"}}, \"type\": \"scattergl\"}], \"scattermapbox\": [{\"marker\": {\"colorbar\": {\"outlinewidth\": 0, \"ticks\": \"\"}}, \"type\": \"scattermapbox\"}], \"scatterpolar\": [{\"marker\": {\"colorbar\": {\"outlinewidth\": 0, \"ticks\": \"\"}}, \"type\": \"scatterpolar\"}], \"scatterpolargl\": [{\"marker\": {\"colorbar\": {\"outlinewidth\": 0, \"ticks\": \"\"}}, \"type\": \"scatterpolargl\"}], \"scatterternary\": [{\"marker\": {\"colorbar\": {\"outlinewidth\": 0, \"ticks\": \"\"}}, \"type\": \"scatterternary\"}], \"surface\": [{\"colorbar\": {\"outlinewidth\": 0, \"ticks\": \"\"}, \"colorscale\": [[0.0, \"#0d0887\"], [0.1111111111111111, \"#46039f\"], [0.2222222222222222, \"#7201a8\"], [0.3333333333333333, \"#9c179e\"], [0.4444444444444444, \"#bd3786\"], [0.5555555555555556, \"#d8576b\"], [0.6666666666666666, \"#ed7953\"], [0.7777777777777778, \"#fb9f3a\"], [0.8888888888888888, \"#fdca26\"], [1.0, \"#f0f921\"]], \"type\": \"surface\"}], \"table\": [{\"cells\": {\"fill\": {\"color\": \"#EBF0F8\"}, \"line\": {\"color\": \"white\"}}, \"header\": {\"fill\": {\"color\": \"#C8D4E3\"}, \"line\": {\"color\": \"white\"}}, \"type\": \"table\"}]}, \"layout\": {\"annotationdefaults\": {\"arrowcolor\": \"#2a3f5f\", \"arrowhead\": 0, \"arrowwidth\": 1}, \"coloraxis\": {\"colorbar\": {\"outlinewidth\": 0, \"ticks\": \"\"}}, \"colorscale\": {\"diverging\": [[0, \"#8e0152\"], [0.1, \"#c51b7d\"], [0.2, \"#de77ae\"], [0.3, \"#f1b6da\"], [0.4, \"#fde0ef\"], [0.5, \"#f7f7f7\"], [0.6, \"#e6f5d0\"], [0.7, \"#b8e186\"], [0.8, \"#7fbc41\"], [0.9, \"#4d9221\"], [1, \"#276419\"]], \"sequential\": [[0.0, \"#0d0887\"], [0.1111111111111111, \"#46039f\"], [0.2222222222222222, \"#7201a8\"], [0.3333333333333333, \"#9c179e\"], [0.4444444444444444, \"#bd3786\"], [0.5555555555555556, \"#d8576b\"], [0.6666666666666666, \"#ed7953\"], [0.7777777777777778, \"#fb9f3a\"], [0.8888888888888888, \"#fdca26\"], [1.0, \"#f0f921\"]], \"sequentialminus\": [[0.0, \"#0d0887\"], [0.1111111111111111, \"#46039f\"], [0.2222222222222222, \"#7201a8\"], [0.3333333333333333, \"#9c179e\"], [0.4444444444444444, \"#bd3786\"], [0.5555555555555556, \"#d8576b\"], [0.6666666666666666, \"#ed7953\"], [0.7777777777777778, \"#fb9f3a\"], [0.8888888888888888, \"#fdca26\"], [1.0, \"#f0f921\"]]}, \"colorway\": [\"#636efa\", \"#EF553B\", \"#00cc96\", \"#ab63fa\", \"#FFA15A\", \"#19d3f3\", \"#FF6692\", \"#B6E880\", \"#FF97FF\", \"#FECB52\"], \"font\": {\"color\": \"#2a3f5f\"}, \"geo\": {\"bgcolor\": \"white\", \"lakecolor\": \"white\", \"landcolor\": \"#E5ECF6\", \"showlakes\": true, \"showland\": true, \"subunitcolor\": \"white\"}, \"hoverlabel\": {\"align\": \"left\"}, \"hovermode\": \"closest\", \"mapbox\": {\"style\": \"light\"}, \"paper_bgcolor\": \"white\", \"plot_bgcolor\": \"#E5ECF6\", \"polar\": {\"angularaxis\": {\"gridcolor\": \"white\", \"linecolor\": \"white\", \"ticks\": \"\"}, \"bgcolor\": \"#E5ECF6\", \"radialaxis\": {\"gridcolor\": \"white\", \"linecolor\": \"white\", \"ticks\": \"\"}}, \"scene\": {\"xaxis\": {\"backgroundcolor\": \"#E5ECF6\", \"gridcolor\": \"white\", \"gridwidth\": 2, \"linecolor\": \"white\", \"showbackground\": true, \"ticks\": \"\", \"zerolinecolor\": \"white\"}, \"yaxis\": {\"backgroundcolor\": \"#E5ECF6\", \"gridcolor\": \"white\", \"gridwidth\": 2, \"linecolor\": \"white\", \"showbackground\": true, \"ticks\": \"\", \"zerolinecolor\": \"white\"}, \"zaxis\": {\"backgroundcolor\": \"#E5ECF6\", \"gridcolor\": \"white\", \"gridwidth\": 2, \"linecolor\": \"white\", \"showbackground\": true, \"ticks\": \"\", \"zerolinecolor\": \"white\"}}, \"shapedefaults\": {\"line\": {\"color\": \"#2a3f5f\"}}, \"ternary\": {\"aaxis\": {\"gridcolor\": \"white\", \"linecolor\": \"white\", \"ticks\": \"\"}, \"baxis\": {\"gridcolor\": \"white\", \"linecolor\": \"white\", \"ticks\": \"\"}, \"bgcolor\": \"#E5ECF6\", \"caxis\": {\"gridcolor\": \"white\", \"linecolor\": \"white\", \"ticks\": \"\"}}, \"title\": {\"x\": 0.05}, \"xaxis\": {\"automargin\": true, \"gridcolor\": \"white\", \"linecolor\": \"white\", \"ticks\": \"\", \"title\": {\"standoff\": 15}, \"zerolinecolor\": \"white\", \"zerolinewidth\": 2}, \"yaxis\": {\"automargin\": true, \"gridcolor\": \"white\", \"linecolor\": \"white\", \"ticks\": \"\", \"title\": {\"standoff\": 15}, \"zerolinecolor\": \"white\", \"zerolinewidth\": 2}}}},                        {\"responsive\": true}                    ).then(function(){\n",
       "                            \n",
       "var gd = document.getElementById('89f80bf4-d6d6-4980-b6c0-dbdfdbab7ba1');\n",
       "var x = new MutationObserver(function (mutations, observer) {{\n",
       "        var display = window.getComputedStyle(gd).display;\n",
       "        if (!display || display === 'none') {{\n",
       "            console.log([gd, 'removed!']);\n",
       "            Plotly.purge(gd);\n",
       "            observer.disconnect();\n",
       "        }}\n",
       "}});\n",
       "\n",
       "// Listen for the removal of the full notebook cells\n",
       "var notebookContainer = gd.closest('#notebook-container');\n",
       "if (notebookContainer) {{\n",
       "    x.observe(notebookContainer, {childList: true});\n",
       "}}\n",
       "\n",
       "// Listen for the clearing of the current output cell\n",
       "var outputEl = gd.closest('.output');\n",
       "if (outputEl) {{\n",
       "    x.observe(outputEl, {childList: true});\n",
       "}}\n",
       "\n",
       "                        })                };                });            </script>        </div>"
      ]
     },
     "metadata": {},
     "output_type": "display_data"
    }
   ],
   "source": [
    "fig = generate_map_plot(df)\n",
    "fig.show()"
   ]
  },
  {
   "cell_type": "code",
   "execution_count": 26,
   "metadata": {
    "ExecuteTime": {
     "end_time": "2020-11-09T10:34:41.643477Z",
     "start_time": "2020-11-09T10:34:41.640289Z"
    }
   },
   "outputs": [],
   "source": [
    "proj_defs = {\n",
    "    'euratl':\n",
    "    {\n",
    "        'extents':[-23.5, 45, 29.5, 70.5],\n",
    "        'resolution': '50m',\n",
    "        'regions':False\n",
    "    },\n",
    "    'it':\n",
    "    {\n",
    "        'extents':[6, 19, 36, 48],\n",
    "        'resolution': '10m',\n",
    "        'regions':True\n",
    "    },\n",
    "    'de':\n",
    "    {\n",
    "        'extents':[5, 16, 46.5, 56],\n",
    "        'resolution': '10m',\n",
    "        'regions':True\n",
    "    }\n",
    "}"
   ]
  },
  {
   "cell_type": "code",
   "execution_count": 27,
   "metadata": {
    "ExecuteTime": {
     "end_time": "2020-11-09T10:35:12.920404Z",
     "start_time": "2020-11-09T10:35:12.915743Z"
    }
   },
   "outputs": [],
   "source": [
    "def get_projection_cartopy(plt, projection=\"euratl\", compute_projection=False):\n",
    "    '''Retrieve the projection using cartopy'''\n",
    "    if compute_projection:\n",
    "        import cartopy.crs as ccrs\n",
    "        import cartopy.feature as cfeature\n",
    "        import cartopy.io.shapereader as shpreader\n",
    "\n",
    "        proj_opts = proj_defs[projection]\n",
    "\n",
    "        ax = plt.axes(projection=ccrs.PlateCarree())\n",
    "\n",
    "        ax.set_extent(proj_opts['extents'], ccrs.PlateCarree())\n",
    "        ax.coastlines(resolution=proj_opts['resolution'])\n",
    "        ax.add_feature(cfeature.BORDERS.with_scale(proj_opts['resolution']))\n",
    "\n",
    "        if proj_opts['regions']:\n",
    "            states_provinces = cfeature.NaturalEarthFeature(\n",
    "                category='cultural',\n",
    "                name='admin_1_states_provinces_lines',\n",
    "                scale=proj_opts['resolution'],\n",
    "                facecolor='none')\n",
    "            ax.add_feature(states_provinces, edgecolor='black', alpha=.5)\n",
    "\n",
    "        return(ax)\n",
    "    else:\n",
    "        return(add_background(plt, projection, image=projection+\"_background.png\"))"
   ]
  },
  {
   "cell_type": "code",
   "execution_count": 14,
   "metadata": {
    "ExecuteTime": {
     "end_time": "2020-11-09T10:32:30.862155Z",
     "start_time": "2020-11-09T10:32:22.812666Z"
    }
   },
   "outputs": [],
   "source": [
    "lon_radar, lat_radar, time_radar, dtime_radar, rr = get_radar_data()"
   ]
  },
  {
   "cell_type": "code",
   "execution_count": 33,
   "metadata": {
    "ExecuteTime": {
     "end_time": "2020-11-09T10:37:28.120222Z",
     "start_time": "2020-11-09T10:37:26.499870Z"
    }
   },
   "outputs": [
    {
     "data": {
      "text/plain": [
       "<matplotlib.collections.QuadMesh at 0x16ae55ed0>"
      ]
     },
     "execution_count": 33,
     "metadata": {},
     "output_type": "execute_result"
    },
    {
     "data": {
      "image/png": "[encoded data removed]",
      "text/plain": [
       "<Figure size 864x864 with 1 Axes>"
      ]
     },
     "metadata": {
      "needs_background": "light"
     },
     "output_type": "display_data"
    }
   ],
   "source": [
    "fig = plt.figure(figsize=(12, 12))\n",
    "\n",
    "ax = get_projection_cartopy(plt, projection='de', compute_projection=True)\n",
    "\n",
    "ax.pcolormesh(lon_radar, lat_radar, rr[0], cmap='gist_stern_r')"
   ]
  }
 ],
 "metadata": {
  "kernelspec": {
   "display_name": "Python 3",
   "language": "python",
   "name": "python3"
  },
  "language_info": {
   "codemirror_mode": {
    "name": "ipython",
    "version": 3
   },
   "file_extension": ".py",
   "mimetype": "text/x-python",
   "name": "python",
   "nbconvert_exporter": "python",
   "pygments_lexer": "ipython3",
   "version": "3.7.8"
  },
  "varInspector": {
   "cols": {
    "lenName": 16,
    "lenType": 16,
    "lenVar": 40
   },
   "kernels_config": {
    "python": {
     "delete_cmd_postfix": "",
     "delete_cmd_prefix": "del ",
     "library": "var_list.py",
     "varRefreshCmd": "print(var_dic_list())"
    },
    "r": {
     "delete_cmd_postfix": ") ",
     "delete_cmd_prefix": "rm(",
     "library": "var_list.r",
     "varRefreshCmd": "cat(var_dic_list()) "
    }
   },
   "types_to_exclude": [
    "module",
    "function",
    "builtin_function_or_method",
    "instance",
    "_Feature"
   ],
   "window_display": false
  }
 },
 "nbformat": 4,
 "nbformat_minor": 4
}
