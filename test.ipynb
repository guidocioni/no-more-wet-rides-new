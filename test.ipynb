{
 "cells": [
  {
   "cell_type": "code",
   "execution_count": 1,
   "metadata": {
    "ExecuteTime": {
     "end_time": "2020-11-09T18:47:38.918359Z",
     "start_time": "2020-11-09T18:47:38.134476Z"
    }
   },
   "outputs": [],
   "source": [
    "from utils import *\n",
    "from app import *"
   ]
  },
  {
   "cell_type": "code",
   "execution_count": 2,
   "metadata": {
    "ExecuteTime": {
     "end_time": "2020-11-09T18:47:41.009816Z",
     "start_time": "2020-11-09T18:47:40.654553Z"
    }
   },
   "outputs": [],
   "source": [
    "source, dest, lons, lats, dtime = get_directions('Holländische Reihe 15, Hamburg',\n",
    "             'Bundesstrasse 53, Hamburg', 'cycling')"
   ]
  },
  {
   "cell_type": "code",
   "execution_count": 21,
   "metadata": {
    "ExecuteTime": {
     "end_time": "2020-11-09T18:51:45.279574Z",
     "start_time": "2020-11-09T18:51:45.274859Z"
    }
   },
   "outputs": [],
   "source": [
    "source, dest, lons, lats, dtime = get_directions('Holländische Reihe 15, Hamburg',\n",
    "             'Bundesstrasse 53, Hamburg', 'cycling')\n",
    "df = pd.DataFrame({'lons': lons, \n",
    "                               'lats': lats, \n",
    "                               'dtime': dtime.seconds.values,\n",
    "                               'source': source,\n",
    "                               'destination': dest})\n",
    "out = df.to_json(date_format='iso', orient='split')"
   ]
  },
  {
   "cell_type": "code",
   "execution_count": 22,
   "metadata": {
    "ExecuteTime": {
     "end_time": "2020-11-09T18:51:46.656882Z",
     "start_time": "2020-11-09T18:51:46.650967Z"
    }
   },
   "outputs": [],
   "source": [
    "ds = pd.read_json(out, orient='split',)"
   ]
  },
  {
   "cell_type": "code",
   "execution_count": 23,
   "metadata": {
    "ExecuteTime": {
     "end_time": "2020-11-09T18:51:47.924817Z",
     "start_time": "2020-11-09T18:51:47.915417Z"
    }
   },
   "outputs": [
    {
     "data": {
      "text/html": [
       "<div>\n",
       "<style scoped>\n",
       "    .dataframe tbody tr th:only-of-type {\n",
       "        vertical-align: middle;\n",
       "    }\n",
       "\n",
       "    .dataframe tbody tr th {\n",
       "        vertical-align: top;\n",
       "    }\n",
       "\n",
       "    .dataframe thead th {\n",
       "        text-align: right;\n",
       "    }\n",
       "</style>\n",
       "<table border=\"1\" class=\"dataframe\">\n",
       "  <thead>\n",
       "    <tr style=\"text-align: right;\">\n",
       "      <th></th>\n",
       "      <th>lons</th>\n",
       "      <th>lats</th>\n",
       "      <th>dtime</th>\n",
       "      <th>source</th>\n",
       "      <th>destination</th>\n",
       "    </tr>\n",
       "  </thead>\n",
       "  <tbody>\n",
       "    <tr>\n",
       "      <th>0</th>\n",
       "      <td>9.930301</td>\n",
       "      <td>53.547772</td>\n",
       "      <td>0</td>\n",
       "      <td>Holländische Reihe 15, 22765 Hamburg, Germany</td>\n",
       "      <td>Bundesstraße 53, 20146 Hamburg, Germany</td>\n",
       "    </tr>\n",
       "    <tr>\n",
       "      <th>1</th>\n",
       "      <td>9.930545</td>\n",
       "      <td>53.547790</td>\n",
       "      <td>3</td>\n",
       "      <td>Holländische Reihe 15, 22765 Hamburg, Germany</td>\n",
       "      <td>Bundesstraße 53, 20146 Hamburg, Germany</td>\n",
       "    </tr>\n",
       "    <tr>\n",
       "      <th>2</th>\n",
       "      <td>9.931742</td>\n",
       "      <td>53.547891</td>\n",
       "      <td>23</td>\n",
       "      <td>Holländische Reihe 15, 22765 Hamburg, Germany</td>\n",
       "      <td>Bundesstraße 53, 20146 Hamburg, Germany</td>\n",
       "    </tr>\n",
       "    <tr>\n",
       "      <th>3</th>\n",
       "      <td>9.932055</td>\n",
       "      <td>53.547908</td>\n",
       "      <td>28</td>\n",
       "      <td>Holländische Reihe 15, 22765 Hamburg, Germany</td>\n",
       "      <td>Bundesstraße 53, 20146 Hamburg, Germany</td>\n",
       "    </tr>\n",
       "    <tr>\n",
       "      <th>4</th>\n",
       "      <td>9.932257</td>\n",
       "      <td>53.547913</td>\n",
       "      <td>31</td>\n",
       "      <td>Holländische Reihe 15, 22765 Hamburg, Germany</td>\n",
       "      <td>Bundesstraße 53, 20146 Hamburg, Germany</td>\n",
       "    </tr>\n",
       "    <tr>\n",
       "      <th>...</th>\n",
       "      <td>...</td>\n",
       "      <td>...</td>\n",
       "      <td>...</td>\n",
       "      <td>...</td>\n",
       "      <td>...</td>\n",
       "    </tr>\n",
       "    <tr>\n",
       "      <th>199</th>\n",
       "      <td>9.975916</td>\n",
       "      <td>53.567939</td>\n",
       "      <td>1539</td>\n",
       "      <td>Holländische Reihe 15, 22765 Hamburg, Germany</td>\n",
       "      <td>Bundesstraße 53, 20146 Hamburg, Germany</td>\n",
       "    </tr>\n",
       "    <tr>\n",
       "      <th>200</th>\n",
       "      <td>9.975790</td>\n",
       "      <td>53.567913</td>\n",
       "      <td>1546</td>\n",
       "      <td>Holländische Reihe 15, 22765 Hamburg, Germany</td>\n",
       "      <td>Bundesstraße 53, 20146 Hamburg, Germany</td>\n",
       "    </tr>\n",
       "    <tr>\n",
       "      <th>201</th>\n",
       "      <td>9.975353</td>\n",
       "      <td>53.567805</td>\n",
       "      <td>1575</td>\n",
       "      <td>Holländische Reihe 15, 22765 Hamburg, Germany</td>\n",
       "      <td>Bundesstraße 53, 20146 Hamburg, Germany</td>\n",
       "    </tr>\n",
       "    <tr>\n",
       "      <th>202</th>\n",
       "      <td>9.975388</td>\n",
       "      <td>53.567754</td>\n",
       "      <td>1580</td>\n",
       "      <td>Holländische Reihe 15, 22765 Hamburg, Germany</td>\n",
       "      <td>Bundesstraße 53, 20146 Hamburg, Germany</td>\n",
       "    </tr>\n",
       "    <tr>\n",
       "      <th>203</th>\n",
       "      <td>9.975342</td>\n",
       "      <td>53.567741</td>\n",
       "      <td>1583</td>\n",
       "      <td>Holländische Reihe 15, 22765 Hamburg, Germany</td>\n",
       "      <td>Bundesstraße 53, 20146 Hamburg, Germany</td>\n",
       "    </tr>\n",
       "  </tbody>\n",
       "</table>\n",
       "<p>204 rows × 5 columns</p>\n",
       "</div>"
      ],
      "text/plain": [
       "         lons       lats  dtime  \\\n",
       "0    9.930301  53.547772      0   \n",
       "1    9.930545  53.547790      3   \n",
       "2    9.931742  53.547891     23   \n",
       "3    9.932055  53.547908     28   \n",
       "4    9.932257  53.547913     31   \n",
       "..        ...        ...    ...   \n",
       "199  9.975916  53.567939   1539   \n",
       "200  9.975790  53.567913   1546   \n",
       "201  9.975353  53.567805   1575   \n",
       "202  9.975388  53.567754   1580   \n",
       "203  9.975342  53.567741   1583   \n",
       "\n",
       "                                            source  \\\n",
       "0    Holländische Reihe 15, 22765 Hamburg, Germany   \n",
       "1    Holländische Reihe 15, 22765 Hamburg, Germany   \n",
       "2    Holländische Reihe 15, 22765 Hamburg, Germany   \n",
       "3    Holländische Reihe 15, 22765 Hamburg, Germany   \n",
       "4    Holländische Reihe 15, 22765 Hamburg, Germany   \n",
       "..                                             ...   \n",
       "199  Holländische Reihe 15, 22765 Hamburg, Germany   \n",
       "200  Holländische Reihe 15, 22765 Hamburg, Germany   \n",
       "201  Holländische Reihe 15, 22765 Hamburg, Germany   \n",
       "202  Holländische Reihe 15, 22765 Hamburg, Germany   \n",
       "203  Holländische Reihe 15, 22765 Hamburg, Germany   \n",
       "\n",
       "                                 destination  \n",
       "0    Bundesstraße 53, 20146 Hamburg, Germany  \n",
       "1    Bundesstraße 53, 20146 Hamburg, Germany  \n",
       "2    Bundesstraße 53, 20146 Hamburg, Germany  \n",
       "3    Bundesstraße 53, 20146 Hamburg, Germany  \n",
       "4    Bundesstraße 53, 20146 Hamburg, Germany  \n",
       "..                                       ...  \n",
       "199  Bundesstraße 53, 20146 Hamburg, Germany  \n",
       "200  Bundesstraße 53, 20146 Hamburg, Germany  \n",
       "201  Bundesstraße 53, 20146 Hamburg, Germany  \n",
       "202  Bundesstraße 53, 20146 Hamburg, Germany  \n",
       "203  Bundesstraße 53, 20146 Hamburg, Germany  \n",
       "\n",
       "[204 rows x 5 columns]"
      ]
     },
     "execution_count": 23,
     "metadata": {},
     "output_type": "execute_result"
    }
   ],
   "source": [
    "ds"
   ]
  },
  {
   "cell_type": "code",
   "execution_count": 3,
   "metadata": {
    "ExecuteTime": {
     "end_time": "2020-11-09T18:47:44.506343Z",
     "start_time": "2020-11-09T18:47:42.638601Z"
    }
   },
   "outputs": [
    {
     "data": {
      "text/html": [
       "<div>\n",
       "<style scoped>\n",
       "    .dataframe tbody tr th:only-of-type {\n",
       "        vertical-align: middle;\n",
       "    }\n",
       "\n",
       "    .dataframe tbody tr th {\n",
       "        vertical-align: top;\n",
       "    }\n",
       "\n",
       "    .dataframe thead th {\n",
       "        text-align: right;\n",
       "    }\n",
       "</style>\n",
       "<table border=\"1\" class=\"dataframe\">\n",
       "  <thead>\n",
       "    <tr style=\"text-align: right;\">\n",
       "      <th></th>\n",
       "      <th>2020-11-09 19:50:00</th>\n",
       "      <th>2020-11-09 20:00:00</th>\n",
       "      <th>2020-11-09 20:10:00</th>\n",
       "      <th>2020-11-09 20:20:00</th>\n",
       "      <th>2020-11-09 20:30:00</th>\n",
       "    </tr>\n",
       "  </thead>\n",
       "  <tbody>\n",
       "    <tr>\n",
       "      <th>0 days 00:01:12.900000</th>\n",
       "      <td>0.000104</td>\n",
       "      <td>0.000104</td>\n",
       "      <td>0.000104</td>\n",
       "      <td>0.000104</td>\n",
       "      <td>0.000104</td>\n",
       "    </tr>\n",
       "    <tr>\n",
       "      <th>0 days 00:01:01.800000</th>\n",
       "      <td>0.000104</td>\n",
       "      <td>0.000104</td>\n",
       "      <td>0.000104</td>\n",
       "      <td>0.000104</td>\n",
       "      <td>0.000104</td>\n",
       "    </tr>\n",
       "    <tr>\n",
       "      <th>0 days 00:05:12.900000</th>\n",
       "      <td>0.000104</td>\n",
       "      <td>0.000104</td>\n",
       "      <td>0.000104</td>\n",
       "      <td>0.000104</td>\n",
       "      <td>0.000104</td>\n",
       "    </tr>\n",
       "    <tr>\n",
       "      <th>0 days 00:11:07.500000</th>\n",
       "      <td>0.000104</td>\n",
       "      <td>0.000104</td>\n",
       "      <td>0.000104</td>\n",
       "      <td>0.000104</td>\n",
       "      <td>0.000104</td>\n",
       "    </tr>\n",
       "    <tr>\n",
       "      <th>0 days 00:18:19.900000</th>\n",
       "      <td>0.000104</td>\n",
       "      <td>0.000104</td>\n",
       "      <td>0.000104</td>\n",
       "      <td>0.000104</td>\n",
       "      <td>0.000104</td>\n",
       "    </tr>\n",
       "    <tr>\n",
       "      <th>0 days 00:21:24.500000</th>\n",
       "      <td>0.000104</td>\n",
       "      <td>0.000104</td>\n",
       "      <td>0.000104</td>\n",
       "      <td>0.000104</td>\n",
       "      <td>0.000104</td>\n",
       "    </tr>\n",
       "    <tr>\n",
       "      <th>0 days 00:25:30.300000</th>\n",
       "      <td>0.000104</td>\n",
       "      <td>0.000104</td>\n",
       "      <td>0.000104</td>\n",
       "      <td>0.000104</td>\n",
       "      <td>0.000104</td>\n",
       "    </tr>\n",
       "  </tbody>\n",
       "</table>\n",
       "</div>"
      ],
      "text/plain": [
       "                        2020-11-09 19:50:00  2020-11-09 20:00:00  \\\n",
       "0 days 00:01:12.900000             0.000104             0.000104   \n",
       "0 days 00:01:01.800000             0.000104             0.000104   \n",
       "0 days 00:05:12.900000             0.000104             0.000104   \n",
       "0 days 00:11:07.500000             0.000104             0.000104   \n",
       "0 days 00:18:19.900000             0.000104             0.000104   \n",
       "0 days 00:21:24.500000             0.000104             0.000104   \n",
       "0 days 00:25:30.300000             0.000104             0.000104   \n",
       "\n",
       "                        2020-11-09 20:10:00  2020-11-09 20:20:00  \\\n",
       "0 days 00:01:12.900000             0.000104             0.000104   \n",
       "0 days 00:01:01.800000             0.000104             0.000104   \n",
       "0 days 00:05:12.900000             0.000104             0.000104   \n",
       "0 days 00:11:07.500000             0.000104             0.000104   \n",
       "0 days 00:18:19.900000             0.000104             0.000104   \n",
       "0 days 00:21:24.500000             0.000104             0.000104   \n",
       "0 days 00:25:30.300000             0.000104             0.000104   \n",
       "\n",
       "                        2020-11-09 20:30:00  \n",
       "0 days 00:01:12.900000             0.000104  \n",
       "0 days 00:01:01.800000             0.000104  \n",
       "0 days 00:05:12.900000             0.000104  \n",
       "0 days 00:11:07.500000             0.000104  \n",
       "0 days 00:18:19.900000             0.000104  \n",
       "0 days 00:21:24.500000             0.000104  \n",
       "0 days 00:25:30.300000             0.000104  "
      ]
     },
     "execution_count": 3,
     "metadata": {},
     "output_type": "execute_result"
    }
   ],
   "source": [
    "get_data(lons, lats, dtime)"
   ]
  },
  {
   "cell_type": "code",
   "execution_count": 5,
   "metadata": {
    "ExecuteTime": {
     "end_time": "2020-11-09T18:40:27.847388Z",
     "start_time": "2020-11-09T18:40:27.845051Z"
    }
   },
   "outputs": [],
   "source": [
    "df = utils.convert_to_dataframe(rain_bike,\n",
    "                                    dtime_itinerary,\n",
    "                                    time_radar)"
   ]
  },
  {
   "cell_type": "code",
   "execution_count": 8,
   "metadata": {
    "ExecuteTime": {
     "end_time": "2020-11-09T18:45:04.801540Z",
     "start_time": "2020-11-09T18:45:04.793700Z"
    }
   },
   "outputs": [
    {
     "data": {
      "text/html": [
       "<div>\n",
       "<style scoped>\n",
       "    .dataframe tbody tr th:only-of-type {\n",
       "        vertical-align: middle;\n",
       "    }\n",
       "\n",
       "    .dataframe tbody tr th {\n",
       "        vertical-align: top;\n",
       "    }\n",
       "\n",
       "    .dataframe thead th {\n",
       "        text-align: right;\n",
       "    }\n",
       "</style>\n",
       "<table border=\"1\" class=\"dataframe\">\n",
       "  <thead>\n",
       "    <tr style=\"text-align: right;\">\n",
       "      <th></th>\n",
       "      <th>19:40</th>\n",
       "      <th>19:50</th>\n",
       "      <th>20:00</th>\n",
       "      <th>20:10</th>\n",
       "      <th>20:20</th>\n",
       "    </tr>\n",
       "  </thead>\n",
       "  <tbody>\n",
       "    <tr>\n",
       "      <th>1.200000</th>\n",
       "      <td>0.000104</td>\n",
       "      <td>0.000104</td>\n",
       "      <td>0.000104</td>\n",
       "      <td>0.000104</td>\n",
       "      <td>0.000104</td>\n",
       "    </tr>\n",
       "    <tr>\n",
       "      <th>1.016667</th>\n",
       "      <td>0.000104</td>\n",
       "      <td>0.000104</td>\n",
       "      <td>0.000104</td>\n",
       "      <td>0.000104</td>\n",
       "      <td>0.000104</td>\n",
       "    </tr>\n",
       "    <tr>\n",
       "      <th>5.200000</th>\n",
       "      <td>0.000104</td>\n",
       "      <td>0.000104</td>\n",
       "      <td>0.000104</td>\n",
       "      <td>0.000104</td>\n",
       "      <td>0.000104</td>\n",
       "    </tr>\n",
       "    <tr>\n",
       "      <th>11.116667</th>\n",
       "      <td>0.000104</td>\n",
       "      <td>0.000104</td>\n",
       "      <td>0.000104</td>\n",
       "      <td>0.000104</td>\n",
       "      <td>0.000104</td>\n",
       "    </tr>\n",
       "    <tr>\n",
       "      <th>18.316667</th>\n",
       "      <td>0.000104</td>\n",
       "      <td>0.000104</td>\n",
       "      <td>0.000104</td>\n",
       "      <td>0.000104</td>\n",
       "      <td>0.000104</td>\n",
       "    </tr>\n",
       "    <tr>\n",
       "      <th>21.400000</th>\n",
       "      <td>0.000104</td>\n",
       "      <td>0.000104</td>\n",
       "      <td>0.000104</td>\n",
       "      <td>0.000104</td>\n",
       "      <td>0.000104</td>\n",
       "    </tr>\n",
       "    <tr>\n",
       "      <th>25.500000</th>\n",
       "      <td>0.000104</td>\n",
       "      <td>0.000104</td>\n",
       "      <td>0.000104</td>\n",
       "      <td>0.000104</td>\n",
       "      <td>0.000104</td>\n",
       "    </tr>\n",
       "  </tbody>\n",
       "</table>\n",
       "</div>"
      ],
      "text/plain": [
       "              19:40     19:50     20:00     20:10     20:20\n",
       "1.200000   0.000104  0.000104  0.000104  0.000104  0.000104\n",
       "1.016667   0.000104  0.000104  0.000104  0.000104  0.000104\n",
       "5.200000   0.000104  0.000104  0.000104  0.000104  0.000104\n",
       "11.116667  0.000104  0.000104  0.000104  0.000104  0.000104\n",
       "18.316667  0.000104  0.000104  0.000104  0.000104  0.000104\n",
       "21.400000  0.000104  0.000104  0.000104  0.000104  0.000104\n",
       "25.500000  0.000104  0.000104  0.000104  0.000104  0.000104"
      ]
     },
     "execution_count": 8,
     "metadata": {},
     "output_type": "execute_result"
    }
   ],
   "source": [
    "df.rename(columns=lambda s: s.strftime('%H:%M'), \n",
    "                  index=lambda s: (s.seconds/60))"
   ]
  },
  {
   "cell_type": "code",
   "execution_count": 336,
   "metadata": {
    "ExecuteTime": {
     "end_time": "2020-11-09T18:25:16.868219Z",
     "start_time": "2020-11-09T18:25:16.863032Z"
    }
   },
   "outputs": [],
   "source": [
    "def extract_rain_rate_from_radar_new(lon_bike, lat_bike, dtime_bike, \n",
    "                                 lon_radar, lat_radar, dtime_radar, rr):\n",
    "    \"\"\"\n",
    "    Given the longitude, latitude and timedelta objects of the radar and of the bike iterate through \n",
    "    every point of the bike track and find closest point (in time/space) of the radar data. Then \n",
    "    construct the rain_bike array by subsetting the rr array, that is the data from the radar.\n",
    "\n",
    "    Returns a numpy array with the rain forecast over the bike track.\n",
    "    \"\"\"\n",
    "    from scipy.spatial import cKDTree\n",
    "    combined_x_y_arrays = np.dstack([lon_radar.ravel(), lat_radar.ravel()])[0]\n",
    "    points_list = list(np.vstack([lon_bike, lat_bike]).T)\n",
    "\n",
    "    def do_kdtree(combined_x_y_arrays, points):\n",
    "        mytree = cKDTree(combined_x_y_arrays)\n",
    "        dist, indexes = mytree.query(points)\n",
    "        return indexes\n",
    "\n",
    "    results2 = do_kdtree(combined_x_y_arrays, points_list)\n",
    "    # As we have many duplicates since the itinerary has a much higher resolution that then radar\n",
    "    # we only select the unique points \n",
    "    inds_itinerary = np.unique(results2)\n",
    "    lon_lat_itinerary = combined_x_y_arrays[inds_itinerary]\n",
    "    \n",
    "    # Now find the closest points in the bike track \n",
    "    combined_x_y_arrays = np.vstack([lon_bike, lat_bike]).T\n",
    "    points_list = list(lon_lat_itinerary)\n",
    "\n",
    "    results3 = do_kdtree(combined_x_y_arrays, points_list)\n",
    "    dtime_itinerary = dtime_bike[results3]\n",
    "    # find indices of these dtimes in radar dtime \n",
    "    inds_dtime_radar = np.abs(np.subtract.outer(dtime_radar, dtime_itinerary)).argmin(0)\n",
    "    \n",
    "    rain_bike = np.empty(shape=(len(shifts), len(inds_itinerary)))\n",
    "\n",
    "    for i, shift in enumerate(shifts):\n",
    "        temp = []\n",
    "        for i_time, i_space in zip(inds_dtime_radar, inds_itinerary):\n",
    "            temp.append(rr[i_time].ravel()[i_space])\n",
    "        rain_bike[i, :] = temp\n",
    "\n",
    "    rain_bike = ((10. ** ((rain_bike/2. - 32.5) / 10.)) / 256.) ** (1. / 1.42)\n",
    "\n",
    "    return rain_bike"
   ]
  },
  {
   "cell_type": "code",
   "execution_count": 341,
   "metadata": {
    "ExecuteTime": {
     "end_time": "2020-11-09T18:31:50.756476Z",
     "start_time": "2020-11-09T18:31:50.373188Z"
    }
   },
   "outputs": [
    {
     "data": {
      "text/plain": [
       "array([[0.00010359, 0.00010359, 0.00010359, 0.00010359, 0.00010359,\n",
       "        0.00010359, 0.00010359],\n",
       "       [0.00010359, 0.00010359, 0.00010359, 0.00010359, 0.00010359,\n",
       "        0.00010359, 0.00010359],\n",
       "       [0.00010359, 0.00010359, 0.00010359, 0.00010359, 0.00010359,\n",
       "        0.00010359, 0.00010359],\n",
       "       [0.00010359, 0.00010359, 0.00010359, 0.00010359, 0.00010359,\n",
       "        0.00010359, 0.00010359],\n",
       "       [0.00010359, 0.00010359, 0.00010359, 0.00010359, 0.00010359,\n",
       "        0.00010359, 0.00010359]])"
      ]
     },
     "execution_count": 341,
     "metadata": {},
     "output_type": "execute_result"
    }
   ],
   "source": [
    "extract_rain_rate_from_radar_new(lons, lats, dtime, lon_radar, lat_radar, dtime_radar, rr)"
   ]
  },
  {
   "cell_type": "code",
   "execution_count": 338,
   "metadata": {
    "ExecuteTime": {
     "end_time": "2020-11-09T18:27:42.726414Z",
     "start_time": "2020-11-09T18:27:04.833651Z"
    }
   },
   "outputs": [
    {
     "data": {
      "text/plain": [
       "array([[0.00010359, 0.00010359, 0.00010359, ..., 0.00010359, 0.00010359,\n",
       "        0.00010359],\n",
       "       [0.00010359, 0.00010359, 0.00010359, ..., 0.00010359, 0.00010359,\n",
       "        0.00010359],\n",
       "       [0.00010359, 0.00010359, 0.00010359, ..., 0.00010359, 0.00010359,\n",
       "        0.00010359],\n",
       "       [0.00010359, 0.00010359, 0.00010359, ..., 0.00010359, 0.00010359,\n",
       "        0.00010359],\n",
       "       [0.00010359, 0.00010359, 0.00010359, ..., 0.00010359, 0.00010359,\n",
       "        0.00010359]])"
      ]
     },
     "execution_count": 338,
     "metadata": {},
     "output_type": "execute_result"
    }
   ],
   "source": [
    "extract_rain_rate_from_radar(lons, lats, dtime, lon_radar, lat_radar, dtime_radar, rr)"
   ]
  },
  {
   "cell_type": "code",
   "execution_count": 344,
   "metadata": {
    "ExecuteTime": {
     "end_time": "2020-11-09T18:36:17.124360Z",
     "start_time": "2020-11-09T18:36:17.120693Z"
    }
   },
   "outputs": [
    {
     "data": {
      "text/plain": [
       "TimedeltaIndex(['0 days 00:05:55.100000',        '0 days 00:08:04',\n",
       "                '0 days 00:15:22.700000', '0 days 00:16:34.600000',\n",
       "                       '0 days 00:22:10', '0 days 00:23:50.300000',\n",
       "                '0 days 00:28:06.700000', '0 days 00:29:35.600000',\n",
       "                '0 days 00:32:53.800000', '0 days 00:40:50.300000',\n",
       "                '0 days 00:38:14.700000', '0 days 00:42:55.500000',\n",
       "                '0 days 00:49:11.700000', '0 days 00:52:06.800000',\n",
       "                '0 days 00:55:50.600000', '0 days 00:58:30.600000'],\n",
       "               dtype='timedelta64[ns]', freq=None)"
      ]
     },
     "execution_count": 344,
     "metadata": {},
     "output_type": "execute_result"
    }
   ],
   "source": [
    "dtime_itinerary"
   ]
  },
  {
   "cell_type": "code",
   "execution_count": 7,
   "metadata": {
    "ExecuteTime": {
     "end_time": "2020-11-09T11:55:06.809511Z",
     "start_time": "2020-11-09T11:55:06.806144Z"
    }
   },
   "outputs": [],
   "source": [
    "df = pd.DataFrame({'lons': lons, \n",
    "               'lats': lats, \n",
    "               'dtime': dtime.seconds.values,\n",
    "               'source':source,\n",
    "              'destination': dest})"
   ]
  },
  {
   "cell_type": "code",
   "execution_count": 290,
   "metadata": {
    "ExecuteTime": {
     "end_time": "2020-11-09T17:56:58.353460Z",
     "start_time": "2020-11-09T17:56:58.350454Z"
    }
   },
   "outputs": [],
   "source": [
    "proj_defs = {\n",
    "    'euratl':\n",
    "    {\n",
    "        'extents':[-23.5, 45, 29.5, 70.5],\n",
    "        'resolution': '50m',\n",
    "        'regions':False\n",
    "    },\n",
    "    'it':\n",
    "    {\n",
    "        'extents':[6, 19, 36, 48],\n",
    "        'resolution': '10m',\n",
    "        'regions':True\n",
    "    },\n",
    "    'de':\n",
    "    {\n",
    "        'extents':[5, 16, 46.5, 56],\n",
    "        'resolution': '10m',\n",
    "        'regions':True\n",
    "    },\n",
    "        'ham':\n",
    "    {\n",
    "        'extents':[9.65, 10.5, 53, 54],\n",
    "        'resolution': '10m',\n",
    "        'regions':True\n",
    "    }\n",
    "}"
   ]
  },
  {
   "cell_type": "code",
   "execution_count": 230,
   "metadata": {
    "ExecuteTime": {
     "end_time": "2020-11-09T17:44:28.509600Z",
     "start_time": "2020-11-09T17:44:28.305591Z"
    }
   },
   "outputs": [],
   "source": [
    "import matplotlib.pyplot as plt"
   ]
  },
  {
   "cell_type": "code",
   "execution_count": 232,
   "metadata": {
    "ExecuteTime": {
     "end_time": "2020-11-09T17:44:32.742117Z",
     "start_time": "2020-11-09T17:44:32.737887Z"
    },
    "code_folding": []
   },
   "outputs": [],
   "source": [
    "def get_projection_cartopy(plt, projection=\"euratl\", compute_projection=False):\n",
    "    '''Retrieve the projection using cartopy'''\n",
    "    if compute_projection:\n",
    "        import cartopy.crs as ccrs\n",
    "        import cartopy.feature as cfeature\n",
    "        import cartopy.io.shapereader as shpreader\n",
    "\n",
    "        proj_opts = proj_defs[projection]\n",
    "\n",
    "        ax = plt.axes(projection=ccrs.PlateCarree())\n",
    "\n",
    "        ax.set_extent(proj_opts['extents'], ccrs.PlateCarree())\n",
    "        ax.coastlines(resolution=proj_opts['resolution'])\n",
    "        ax.add_feature(cfeature.BORDERS.with_scale(proj_opts['resolution']))\n",
    "\n",
    "        if proj_opts['regions']:\n",
    "            states_provinces = cfeature.NaturalEarthFeature(\n",
    "                category='cultural',\n",
    "                name='admin_1_states_provinces_lines',\n",
    "                scale=proj_opts['resolution'],\n",
    "                facecolor='none')\n",
    "            ax.add_feature(states_provinces, edgecolor='black', alpha=.5)\n",
    "\n",
    "        return(ax)\n",
    "    else:\n",
    "        return(add_background(plt, projection, image=projection+\"_background.png\"))"
   ]
  },
  {
   "cell_type": "code",
   "execution_count": 291,
   "metadata": {
    "ExecuteTime": {
     "end_time": "2020-11-09T17:57:00.831416Z",
     "start_time": "2020-11-09T17:56:59.853689Z"
    }
   },
   "outputs": [
    {
     "data": {
      "text/plain": [
       "<matplotlib.collections.QuadMesh at 0x7fcd7c03f2d0>"
      ]
     },
     "execution_count": 291,
     "metadata": {},
     "output_type": "execute_result"
    },
    {
     "data": {
      "image/png": "[encoded data removed]",
      "text/plain": [
       "<Figure size 864x864 with 1 Axes>"
      ]
     },
     "metadata": {
      "needs_background": "light"
     },
     "output_type": "display_data"
    }
   ],
   "source": [
    "fig = plt.figure(figsize=(12, 12))\n",
    "\n",
    "ax = get_projection_cartopy(plt, projection='ham', compute_projection=True)\n",
    "\n",
    "ax.pcolormesh(lon_radar, lat_radar, rr[0], cmap='gist_stern_r')"
   ]
  }
 ],
 "metadata": {
  "kernelspec": {
   "display_name": "Python 3",
   "language": "python",
   "name": "python3"
  },
  "language_info": {
   "codemirror_mode": {
    "name": "ipython",
    "version": 3
   },
   "file_extension": ".py",
   "mimetype": "text/x-python",
   "name": "python",
   "nbconvert_exporter": "python",
   "pygments_lexer": "ipython3",
   "version": "3.7.8"
  },
  "varInspector": {
   "cols": {
    "lenName": 16,
    "lenType": 16,
    "lenVar": 40
   },
   "kernels_config": {
    "python": {
     "delete_cmd_postfix": "",
     "delete_cmd_prefix": "del ",
     "library": "var_list.py",
     "varRefreshCmd": "print(var_dic_list())"
    },
    "r": {
     "delete_cmd_postfix": ") ",
     "delete_cmd_prefix": "rm(",
     "library": "var_list.r",
     "varRefreshCmd": "cat(var_dic_list()) "
    }
   },
   "types_to_exclude": [
    "module",
    "function",
    "builtin_function_or_method",
    "instance",
    "_Feature"
   ],
   "window_display": false
  }
 },
 "nbformat": 4,
 "nbformat_minor": 4
}
